{
 "cells": [
  {
   "cell_type": "markdown",
   "metadata": {},
   "source": [
    "# Feature Selection\n",
    "### 07-10-2022"
   ]
  },
  {
   "cell_type": "code",
   "execution_count": 1,
   "metadata": {},
   "outputs": [],
   "source": [
    "import numpy as np\n",
    "import pandas as pd\n",
    "from feature_engine.selection import DropConstantFeatures, DropDuplicateFeatures, SmartCorrelatedSelection"
   ]
  },
  {
   "cell_type": "code",
   "execution_count": 2,
   "metadata": {},
   "outputs": [
    {
     "data": {
      "text/html": [
       "<div>\n",
       "<style scoped>\n",
       "    .dataframe tbody tr th:only-of-type {\n",
       "        vertical-align: middle;\n",
       "    }\n",
       "\n",
       "    .dataframe tbody tr th {\n",
       "        vertical-align: top;\n",
       "    }\n",
       "\n",
       "    .dataframe thead th {\n",
       "        text-align: right;\n",
       "    }\n",
       "</style>\n",
       "<table border=\"1\" class=\"dataframe\">\n",
       "  <thead>\n",
       "    <tr style=\"text-align: right;\">\n",
       "      <th></th>\n",
       "      <th>var_1</th>\n",
       "      <th>var_2</th>\n",
       "      <th>var_3</th>\n",
       "      <th>var_4</th>\n",
       "      <th>var_5</th>\n",
       "      <th>var_6</th>\n",
       "      <th>var_7</th>\n",
       "      <th>var_8</th>\n",
       "      <th>var_9</th>\n",
       "      <th>var_10</th>\n",
       "      <th>...</th>\n",
       "      <th>var_100</th>\n",
       "      <th>var_101</th>\n",
       "      <th>var_102</th>\n",
       "      <th>var_103</th>\n",
       "      <th>var_104</th>\n",
       "      <th>var_105</th>\n",
       "      <th>var_106</th>\n",
       "      <th>var_107</th>\n",
       "      <th>var_108</th>\n",
       "      <th>var_109</th>\n",
       "    </tr>\n",
       "  </thead>\n",
       "  <tbody>\n",
       "    <tr>\n",
       "      <th>count</th>\n",
       "      <td>5.000000e+04</td>\n",
       "      <td>5.000000e+04</td>\n",
       "      <td>5.000000e+04</td>\n",
       "      <td>5.000000e+04</td>\n",
       "      <td>5.000000e+04</td>\n",
       "      <td>5.000000e+04</td>\n",
       "      <td>5.000000e+04</td>\n",
       "      <td>5.000000e+04</td>\n",
       "      <td>50000.000000</td>\n",
       "      <td>50000.000000</td>\n",
       "      <td>...</td>\n",
       "      <td>5.000000e+04</td>\n",
       "      <td>5.000000e+04</td>\n",
       "      <td>5.000000e+04</td>\n",
       "      <td>50000.000000</td>\n",
       "      <td>50000.000000</td>\n",
       "      <td>5.000000e+04</td>\n",
       "      <td>5.000000e+04</td>\n",
       "      <td>5.000000e+04</td>\n",
       "      <td>5.000000e+04</td>\n",
       "      <td>5.000000e+04</td>\n",
       "    </tr>\n",
       "    <tr>\n",
       "      <th>mean</th>\n",
       "      <td>4.704039e+00</td>\n",
       "      <td>6.880031e+00</td>\n",
       "      <td>1.151436e+01</td>\n",
       "      <td>3.892582e+00</td>\n",
       "      <td>2.048636e+00</td>\n",
       "      <td>1.848628e+00</td>\n",
       "      <td>2.370612e+00</td>\n",
       "      <td>7.121850e-01</td>\n",
       "      <td>11.721513</td>\n",
       "      <td>1.032379</td>\n",
       "      <td>...</td>\n",
       "      <td>2.327994e+00</td>\n",
       "      <td>6.858550e+00</td>\n",
       "      <td>3.628993e+00</td>\n",
       "      <td>16.968881</td>\n",
       "      <td>15.120146</td>\n",
       "      <td>6.975261e+00</td>\n",
       "      <td>1.550717e+00</td>\n",
       "      <td>1.660071e+00</td>\n",
       "      <td>1.804478e+00</td>\n",
       "      <td>2.296217e+00</td>\n",
       "    </tr>\n",
       "    <tr>\n",
       "      <th>std</th>\n",
       "      <td>1.720424e+00</td>\n",
       "      <td>2.389773e+00</td>\n",
       "      <td>6.596539e+00</td>\n",
       "      <td>6.781865e-01</td>\n",
       "      <td>8.710676e-01</td>\n",
       "      <td>1.208759e+00</td>\n",
       "      <td>5.679278e-01</td>\n",
       "      <td>5.351923e-01</td>\n",
       "      <td>2.243756</td>\n",
       "      <td>2.150870</td>\n",
       "      <td>...</td>\n",
       "      <td>7.719772e-01</td>\n",
       "      <td>9.886623e-01</td>\n",
       "      <td>1.127913e+00</td>\n",
       "      <td>1.221648</td>\n",
       "      <td>1.856647</td>\n",
       "      <td>1.219799e+00</td>\n",
       "      <td>5.428825e-01</td>\n",
       "      <td>1.075348e+00</td>\n",
       "      <td>1.339689e+00</td>\n",
       "      <td>1.342662e+00</td>\n",
       "    </tr>\n",
       "    <tr>\n",
       "      <th>min</th>\n",
       "      <td>-9.783926e-07</td>\n",
       "      <td>-3.471477e-07</td>\n",
       "      <td>-9.814835e-07</td>\n",
       "      <td>-7.494901e-07</td>\n",
       "      <td>4.039061e-07</td>\n",
       "      <td>-9.627684e-07</td>\n",
       "      <td>-6.249937e-07</td>\n",
       "      <td>-9.920742e-07</td>\n",
       "      <td>0.528386</td>\n",
       "      <td>0.000097</td>\n",
       "      <td>...</td>\n",
       "      <td>-9.383139e-07</td>\n",
       "      <td>-3.400396e-07</td>\n",
       "      <td>-8.295591e-07</td>\n",
       "      <td>1.440938</td>\n",
       "      <td>1.380481</td>\n",
       "      <td>7.369675e-07</td>\n",
       "      <td>-9.452659e-07</td>\n",
       "      <td>-9.775950e-07</td>\n",
       "      <td>-9.578620e-07</td>\n",
       "      <td>-5.863368e-07</td>\n",
       "    </tr>\n",
       "    <tr>\n",
       "      <th>25%</th>\n",
       "      <td>3.677419e+00</td>\n",
       "      <td>5.349017e+00</td>\n",
       "      <td>5.420063e+00</td>\n",
       "      <td>3.469558e+00</td>\n",
       "      <td>1.461370e+00</td>\n",
       "      <td>1.063076e+00</td>\n",
       "      <td>2.000001e+00</td>\n",
       "      <td>3.888885e-01</td>\n",
       "      <td>10.268114</td>\n",
       "      <td>0.052340</td>\n",
       "      <td>...</td>\n",
       "      <td>1.812357e+00</td>\n",
       "      <td>6.231875e+00</td>\n",
       "      <td>2.927124e+00</td>\n",
       "      <td>16.396500</td>\n",
       "      <td>14.264012</td>\n",
       "      <td>6.196721e+00</td>\n",
       "      <td>1.204462e+00</td>\n",
       "      <td>9.677421e-01</td>\n",
       "      <td>1.008315e+00</td>\n",
       "      <td>1.544505e+00</td>\n",
       "    </tr>\n",
       "    <tr>\n",
       "      <th>50%</th>\n",
       "      <td>4.704951e+00</td>\n",
       "      <td>6.825840e+00</td>\n",
       "      <td>1.376047e+01</td>\n",
       "      <td>3.873594e+00</td>\n",
       "      <td>1.878110e+00</td>\n",
       "      <td>1.496775e+00</td>\n",
       "      <td>2.339303e+00</td>\n",
       "      <td>6.187497e-01</td>\n",
       "      <td>11.918214</td>\n",
       "      <td>0.231792</td>\n",
       "      <td>...</td>\n",
       "      <td>2.226308e+00</td>\n",
       "      <td>6.869970e+00</td>\n",
       "      <td>3.428033e+00</td>\n",
       "      <td>17.138207</td>\n",
       "      <td>15.468750</td>\n",
       "      <td>7.025433e+00</td>\n",
       "      <td>1.483185e+00</td>\n",
       "      <td>1.516666e+00</td>\n",
       "      <td>1.273522e+00</td>\n",
       "      <td>2.068721e+00</td>\n",
       "    </tr>\n",
       "    <tr>\n",
       "      <th>75%</th>\n",
       "      <td>5.682472e+00</td>\n",
       "      <td>8.268947e+00</td>\n",
       "      <td>1.742553e+01</td>\n",
       "      <td>4.289362e+00</td>\n",
       "      <td>2.426291e+00</td>\n",
       "      <td>2.236870e+00</td>\n",
       "      <td>2.712021e+00</td>\n",
       "      <td>9.090915e-01</td>\n",
       "      <td>13.350909</td>\n",
       "      <td>0.970598</td>\n",
       "      <td>...</td>\n",
       "      <td>2.725638e+00</td>\n",
       "      <td>7.490974e+00</td>\n",
       "      <td>4.103208e+00</td>\n",
       "      <td>17.784080</td>\n",
       "      <td>16.387197</td>\n",
       "      <td>7.798224e+00</td>\n",
       "      <td>1.812842e+00</td>\n",
       "      <td>2.171428e+00</td>\n",
       "      <td>2.079650e+00</td>\n",
       "      <td>2.679764e+00</td>\n",
       "    </tr>\n",
       "    <tr>\n",
       "      <th>max</th>\n",
       "      <td>2.000000e+01</td>\n",
       "      <td>1.938533e+01</td>\n",
       "      <td>2.000000e+01</td>\n",
       "      <td>2.000000e+01</td>\n",
       "      <td>1.216985e+01</td>\n",
       "      <td>1.980000e+01</td>\n",
       "      <td>1.960000e+01</td>\n",
       "      <td>2.000000e+01</td>\n",
       "      <td>19.816311</td>\n",
       "      <td>20.000001</td>\n",
       "      <td>...</td>\n",
       "      <td>1.254920e+01</td>\n",
       "      <td>1.940000e+01</td>\n",
       "      <td>1.900000e+01</td>\n",
       "      <td>20.000001</td>\n",
       "      <td>19.999999</td>\n",
       "      <td>1.511078e+01</td>\n",
       "      <td>1.300635e+01</td>\n",
       "      <td>1.880000e+01</td>\n",
       "      <td>1.816324e+01</td>\n",
       "      <td>2.000000e+01</td>\n",
       "    </tr>\n",
       "  </tbody>\n",
       "</table>\n",
       "<p>8 rows × 109 columns</p>\n",
       "</div>"
      ],
      "text/plain": [
       "              var_1         var_2         var_3         var_4         var_5  \\\n",
       "count  5.000000e+04  5.000000e+04  5.000000e+04  5.000000e+04  5.000000e+04   \n",
       "mean   4.704039e+00  6.880031e+00  1.151436e+01  3.892582e+00  2.048636e+00   \n",
       "std    1.720424e+00  2.389773e+00  6.596539e+00  6.781865e-01  8.710676e-01   \n",
       "min   -9.783926e-07 -3.471477e-07 -9.814835e-07 -7.494901e-07  4.039061e-07   \n",
       "25%    3.677419e+00  5.349017e+00  5.420063e+00  3.469558e+00  1.461370e+00   \n",
       "50%    4.704951e+00  6.825840e+00  1.376047e+01  3.873594e+00  1.878110e+00   \n",
       "75%    5.682472e+00  8.268947e+00  1.742553e+01  4.289362e+00  2.426291e+00   \n",
       "max    2.000000e+01  1.938533e+01  2.000000e+01  2.000000e+01  1.216985e+01   \n",
       "\n",
       "              var_6         var_7         var_8         var_9        var_10  \\\n",
       "count  5.000000e+04  5.000000e+04  5.000000e+04  50000.000000  50000.000000   \n",
       "mean   1.848628e+00  2.370612e+00  7.121850e-01     11.721513      1.032379   \n",
       "std    1.208759e+00  5.679278e-01  5.351923e-01      2.243756      2.150870   \n",
       "min   -9.627684e-07 -6.249937e-07 -9.920742e-07      0.528386      0.000097   \n",
       "25%    1.063076e+00  2.000001e+00  3.888885e-01     10.268114      0.052340   \n",
       "50%    1.496775e+00  2.339303e+00  6.187497e-01     11.918214      0.231792   \n",
       "75%    2.236870e+00  2.712021e+00  9.090915e-01     13.350909      0.970598   \n",
       "max    1.980000e+01  1.960000e+01  2.000000e+01     19.816311     20.000001   \n",
       "\n",
       "       ...       var_100       var_101       var_102       var_103  \\\n",
       "count  ...  5.000000e+04  5.000000e+04  5.000000e+04  50000.000000   \n",
       "mean   ...  2.327994e+00  6.858550e+00  3.628993e+00     16.968881   \n",
       "std    ...  7.719772e-01  9.886623e-01  1.127913e+00      1.221648   \n",
       "min    ... -9.383139e-07 -3.400396e-07 -8.295591e-07      1.440938   \n",
       "25%    ...  1.812357e+00  6.231875e+00  2.927124e+00     16.396500   \n",
       "50%    ...  2.226308e+00  6.869970e+00  3.428033e+00     17.138207   \n",
       "75%    ...  2.725638e+00  7.490974e+00  4.103208e+00     17.784080   \n",
       "max    ...  1.254920e+01  1.940000e+01  1.900000e+01     20.000001   \n",
       "\n",
       "            var_104       var_105       var_106       var_107       var_108  \\\n",
       "count  50000.000000  5.000000e+04  5.000000e+04  5.000000e+04  5.000000e+04   \n",
       "mean      15.120146  6.975261e+00  1.550717e+00  1.660071e+00  1.804478e+00   \n",
       "std        1.856647  1.219799e+00  5.428825e-01  1.075348e+00  1.339689e+00   \n",
       "min        1.380481  7.369675e-07 -9.452659e-07 -9.775950e-07 -9.578620e-07   \n",
       "25%       14.264012  6.196721e+00  1.204462e+00  9.677421e-01  1.008315e+00   \n",
       "50%       15.468750  7.025433e+00  1.483185e+00  1.516666e+00  1.273522e+00   \n",
       "75%       16.387197  7.798224e+00  1.812842e+00  2.171428e+00  2.079650e+00   \n",
       "max       19.999999  1.511078e+01  1.300635e+01  1.880000e+01  1.816324e+01   \n",
       "\n",
       "            var_109  \n",
       "count  5.000000e+04  \n",
       "mean   2.296217e+00  \n",
       "std    1.342662e+00  \n",
       "min   -5.863368e-07  \n",
       "25%    1.544505e+00  \n",
       "50%    2.068721e+00  \n",
       "75%    2.679764e+00  \n",
       "max    2.000000e+01  \n",
       "\n",
       "[8 rows x 109 columns]"
      ]
     },
     "execution_count": 2,
     "metadata": {},
     "output_type": "execute_result"
    }
   ],
   "source": [
    "data = pd.read_csv('./datasets/dataset_2.csv')\n",
    "data.describe()"
   ]
  },
  {
   "cell_type": "code",
   "execution_count": 6,
   "metadata": {},
   "outputs": [
    {
     "data": {
      "text/plain": [
       "(50000, 109)"
      ]
     },
     "execution_count": 6,
     "metadata": {},
     "output_type": "execute_result"
    }
   ],
   "source": [
    "data.head()\n",
    "data.shape"
   ]
  },
  {
   "cell_type": "code",
   "execution_count": 5,
   "metadata": {},
   "outputs": [
    {
     "data": {
      "text/plain": [
       "(50000, 108)"
      ]
     },
     "execution_count": 5,
     "metadata": {},
     "output_type": "execute_result"
    }
   ],
   "source": [
    "x = data.drop('target', axis=1)\n",
    "y = data['target']\n",
    "x.shape"
   ]
  },
  {
   "cell_type": "code",
   "execution_count": 35,
   "metadata": {},
   "outputs": [],
   "source": [
    "from sklearn.ensemble import RandomForestClassifier\n",
    "rf = RandomForestClassifier(n_estimators=10, n_jobs=4)"
   ]
  },
  {
   "cell_type": "code",
   "execution_count": 36,
   "metadata": {},
   "outputs": [],
   "source": [
    "from sklearn.model_selection import cross_validate"
   ]
  },
  {
   "cell_type": "code",
   "execution_count": 37,
   "metadata": {},
   "outputs": [],
   "source": [
    "sel = SmartCorrelatedSelection(selection_method='variance')"
   ]
  },
  {
   "cell_type": "code",
   "execution_count": 38,
   "metadata": {},
   "outputs": [],
   "source": [
    "xnew = sel.fit_transform(x, y)"
   ]
  },
  {
   "cell_type": "code",
   "execution_count": 39,
   "metadata": {},
   "outputs": [
    {
     "data": {
      "text/plain": [
       "(50000, 74)"
      ]
     },
     "execution_count": 39,
     "metadata": {},
     "output_type": "execute_result"
    }
   ],
   "source": [
    "xnew.shape"
   ]
  },
  {
   "cell_type": "code",
   "execution_count": 40,
   "metadata": {},
   "outputs": [
    {
     "data": {
      "text/plain": [
       "['var_5',\n",
       " 'var_13',\n",
       " 'var_15',\n",
       " 'var_18',\n",
       " 'var_21',\n",
       " 'var_22',\n",
       " 'var_23',\n",
       " 'var_24',\n",
       " 'var_26',\n",
       " 'var_28',\n",
       " 'var_29',\n",
       " 'var_30',\n",
       " 'var_33',\n",
       " 'var_35',\n",
       " 'var_39',\n",
       " 'var_40',\n",
       " 'var_42',\n",
       " 'var_46',\n",
       " 'var_60',\n",
       " 'var_63',\n",
       " 'var_66',\n",
       " 'var_70',\n",
       " 'var_72',\n",
       " 'var_76',\n",
       " 'var_77',\n",
       " 'var_80',\n",
       " 'var_84',\n",
       " 'var_85',\n",
       " 'var_90',\n",
       " 'var_97',\n",
       " 'var_98',\n",
       " 'var_101',\n",
       " 'var_105',\n",
       " 'var_109']"
      ]
     },
     "execution_count": 40,
     "metadata": {},
     "output_type": "execute_result"
    }
   ],
   "source": [
    "sel.features_to_drop_"
   ]
  },
  {
   "cell_type": "code",
   "execution_count": 41,
   "metadata": {},
   "outputs": [
    {
     "data": {
      "text/plain": [
       "[{'var_3', 'var_80'},\n",
       " {'var_28', 'var_5', 'var_75'},\n",
       " {'var_11', 'var_33'},\n",
       " {'var_13', 'var_17'},\n",
       " {'var_15', 'var_57'},\n",
       " {'var_18', 'var_43'},\n",
       " {'var_19', 'var_29'},\n",
       " {'var_21', 'var_70', 'var_88'},\n",
       " {'var_22', 'var_24', 'var_32', 'var_39', 'var_42', 'var_76'},\n",
       " {'var_102', 'var_23'},\n",
       " {'var_26', 'var_59'},\n",
       " {'var_108', 'var_30'},\n",
       " {'var_35', 'var_87'},\n",
       " {'var_101', 'var_105', 'var_40', 'var_74', 'var_85'},\n",
       " {'var_46', 'var_94'},\n",
       " {'var_50', 'var_72'},\n",
       " {'var_52', 'var_66'},\n",
       " {'var_109', 'var_56'},\n",
       " {'var_104', 'var_60'},\n",
       " {'var_63', 'var_64', 'var_84', 'var_97'},\n",
       " {'var_106', 'var_77'},\n",
       " {'var_90', 'var_95'},\n",
       " {'var_100', 'var_98'}]"
      ]
     },
     "execution_count": 41,
     "metadata": {},
     "output_type": "execute_result"
    }
   ],
   "source": [
    "sel.correlated_feature_sets_"
   ]
  },
  {
   "cell_type": "code",
   "execution_count": 42,
   "metadata": {},
   "outputs": [
    {
     "data": {
      "text/plain": [
       "{'var_28', 'var_5', 'var_75'}"
      ]
     },
     "execution_count": 42,
     "metadata": {},
     "output_type": "execute_result"
    }
   ],
   "source": [
    "group = sel.correlated_feature_sets_[1]\n",
    "group"
   ]
  },
  {
   "cell_type": "code",
   "execution_count": 43,
   "metadata": {},
   "outputs": [
    {
     "name": "stdout",
     "output_type": "stream",
     "text": [
      "var_75 [0.65842683 0.65386692 0.64862595]\n",
      "var_75 0.6536398997209063\n",
      "var_28 [0.6399472  0.64414712 0.64586583]\n",
      "var_28 0.6433200509156743\n",
      "var_5 [0.6400072  0.63634727 0.64046562]\n",
      "var_5 0.6389400305117623\n"
     ]
    }
   ],
   "source": [
    "for i in group:\n",
    "    model = cross_validate(rf, x[i].to_frame(), y, cv=3)\n",
    "    print(i, model['test_score'])\n",
    "    print(i, model['test_score'].mean())"
   ]
  },
  {
   "cell_type": "code",
   "execution_count": 44,
   "metadata": {},
   "outputs": [
    {
     "data": {
      "text/plain": [
       "False"
      ]
     },
     "execution_count": 44,
     "metadata": {},
     "output_type": "execute_result"
    }
   ],
   "source": [
    "'var_75' in sel.features_to_drop_"
   ]
  },
  {
   "cell_type": "code",
   "execution_count": 45,
   "metadata": {},
   "outputs": [
    {
     "data": {
      "text/plain": [
       "True"
      ]
     },
     "execution_count": 45,
     "metadata": {},
     "output_type": "execute_result"
    }
   ],
   "source": [
    "'var_5' in sel.features_to_drop_"
   ]
  },
  {
   "cell_type": "code",
   "execution_count": 46,
   "metadata": {},
   "outputs": [
    {
     "data": {
      "text/plain": [
       "True"
      ]
     },
     "execution_count": 46,
     "metadata": {},
     "output_type": "execute_result"
    }
   ],
   "source": [
    "'var_28' in sel.features_to_drop_"
   ]
  },
  {
   "cell_type": "code",
   "execution_count": 8,
   "metadata": {},
   "outputs": [],
   "source": [
    "from sklearn.pipeline import Pipeline\n",
    "pip = Pipeline([('Constant', DropConstantFeatures(tol=0.98)), ('Duplicate', DropDuplicateFeatures()), ('Correlated', SmartCorrelatedSelection())])"
   ]
  },
  {
   "cell_type": "code",
   "execution_count": 10,
   "metadata": {},
   "outputs": [
    {
     "data": {
      "text/plain": [
       "(50000, 74)"
      ]
     },
     "execution_count": 10,
     "metadata": {},
     "output_type": "execute_result"
    }
   ],
   "source": [
    "xnew = pip.fit_transform(x)\n",
    "xnew.shape"
   ]
  },
  {
   "cell_type": "code",
   "execution_count": 53,
   "metadata": {},
   "outputs": [
    {
     "data": {
      "text/plain": [
       "['var_1',\n",
       " 'var_2',\n",
       " 'var_3',\n",
       " 'var_4',\n",
       " 'var_5',\n",
       " 'var_6',\n",
       " 'var_7',\n",
       " 'var_8',\n",
       " 'var_9',\n",
       " 'var_10',\n",
       " 'var_11',\n",
       " 'var_12',\n",
       " 'var_13',\n",
       " 'var_14',\n",
       " 'var_15',\n",
       " 'var_16',\n",
       " 'var_17',\n",
       " 'var_18',\n",
       " 'var_19',\n",
       " 'var_20',\n",
       " 'var_21',\n",
       " 'var_22',\n",
       " 'var_23',\n",
       " 'var_24',\n",
       " 'var_25',\n",
       " 'var_26',\n",
       " 'var_27',\n",
       " 'var_28',\n",
       " 'var_29',\n",
       " 'var_30',\n",
       " 'var_31',\n",
       " 'var_32',\n",
       " 'var_33',\n",
       " 'var_34',\n",
       " 'var_35',\n",
       " 'var_36',\n",
       " 'var_37',\n",
       " 'var_38',\n",
       " 'var_39',\n",
       " 'var_40',\n",
       " 'var_41',\n",
       " 'var_42',\n",
       " 'var_43',\n",
       " 'var_44',\n",
       " 'var_45',\n",
       " 'var_46',\n",
       " 'var_47',\n",
       " 'var_48',\n",
       " 'var_49',\n",
       " 'var_50',\n",
       " 'var_51',\n",
       " 'var_52',\n",
       " 'var_53',\n",
       " 'var_54',\n",
       " 'var_55',\n",
       " 'var_56',\n",
       " 'var_57',\n",
       " 'var_58',\n",
       " 'var_59',\n",
       " 'var_60',\n",
       " 'var_62',\n",
       " 'var_63',\n",
       " 'var_64',\n",
       " 'var_65',\n",
       " 'var_66',\n",
       " 'var_67',\n",
       " 'var_68',\n",
       " 'var_69',\n",
       " 'var_70',\n",
       " 'var_71',\n",
       " 'var_72',\n",
       " 'var_73',\n",
       " 'var_74',\n",
       " 'var_75',\n",
       " 'var_76',\n",
       " 'var_77',\n",
       " 'var_78',\n",
       " 'var_79',\n",
       " 'var_80',\n",
       " 'var_81',\n",
       " 'var_82',\n",
       " 'var_83',\n",
       " 'var_84',\n",
       " 'var_85',\n",
       " 'var_86',\n",
       " 'var_87',\n",
       " 'var_88',\n",
       " 'var_89',\n",
       " 'var_90',\n",
       " 'var_91',\n",
       " 'var_92',\n",
       " 'var_93',\n",
       " 'var_94',\n",
       " 'var_95',\n",
       " 'var_96',\n",
       " 'var_97',\n",
       " 'var_98',\n",
       " 'var_99',\n",
       " 'var_100',\n",
       " 'var_101',\n",
       " 'var_102',\n",
       " 'var_103',\n",
       " 'var_104',\n",
       " 'var_105',\n",
       " 'var_106',\n",
       " 'var_107',\n",
       " 'var_108',\n",
       " 'var_109']"
      ]
     },
     "execution_count": 53,
     "metadata": {},
     "output_type": "execute_result"
    }
   ],
   "source": [
    "pip.feature_names_in_"
   ]
  },
  {
   "cell_type": "code",
   "execution_count": 54,
   "metadata": {},
   "outputs": [
    {
     "data": {
      "text/plain": [
       "['var_3',\n",
       " 'var_5',\n",
       " 'var_11',\n",
       " 'var_13',\n",
       " 'var_18',\n",
       " 'var_19',\n",
       " 'var_21',\n",
       " 'var_22',\n",
       " 'var_24',\n",
       " 'var_28',\n",
       " 'var_32',\n",
       " 'var_42',\n",
       " 'var_46',\n",
       " 'var_50',\n",
       " 'var_52',\n",
       " 'var_57',\n",
       " 'var_59',\n",
       " 'var_63',\n",
       " 'var_64',\n",
       " 'var_70',\n",
       " 'var_74',\n",
       " 'var_76',\n",
       " 'var_77',\n",
       " 'var_85',\n",
       " 'var_87',\n",
       " 'var_90',\n",
       " 'var_97',\n",
       " 'var_100',\n",
       " 'var_101',\n",
       " 'var_102',\n",
       " 'var_104',\n",
       " 'var_105',\n",
       " 'var_108',\n",
       " 'var_109']"
      ]
     },
     "execution_count": 54,
     "metadata": {},
     "output_type": "execute_result"
    }
   ],
   "source": [
    "pip.named_steps['Correlated'].features_to_drop_"
   ]
  },
  {
   "cell_type": "code",
   "execution_count": null,
   "metadata": {},
   "outputs": [],
   "source": []
  }
 ],
 "metadata": {
  "kernelspec": {
   "display_name": "Python 3.9.12 ('base')",
   "language": "python",
   "name": "python3"
  },
  "language_info": {
   "codemirror_mode": {
    "name": "ipython",
    "version": 3
   },
   "file_extension": ".py",
   "mimetype": "text/x-python",
   "name": "python",
   "nbconvert_exporter": "python",
   "pygments_lexer": "ipython3",
   "version": "3.9.12"
  },
  "orig_nbformat": 4,
  "vscode": {
   "interpreter": {
    "hash": "a5e2940609b4beeecea3a57c36702139d4feb5f2786223d248b35e487576e04a"
   }
  }
 },
 "nbformat": 4,
 "nbformat_minor": 2
}
