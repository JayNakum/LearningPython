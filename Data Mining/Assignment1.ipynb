{
 "cells": [
  {
   "cell_type": "markdown",
   "metadata": {},
   "source": [
    "# Assignment 1\n",
    "by [Jay Nakum](https://JayNakum.github.io/) [20BCP304D]"
   ]
  },
  {
   "cell_type": "code",
   "execution_count": 2,
   "metadata": {},
   "outputs": [],
   "source": [
    "import numpy as np"
   ]
  },
  {
   "cell_type": "markdown",
   "metadata": {},
   "source": [
    "Q1) WAP to take 10 inputs from the user as comma seperated and stored into a 5*2 matrix."
   ]
  },
  {
   "cell_type": "code",
   "execution_count": 7,
   "metadata": {},
   "outputs": [
    {
     "name": "stdout",
     "output_type": "stream",
     "text": [
      "[[ 1  2  3  4  5]\n",
      " [ 6  7  8  9 10]]\n"
     ]
    }
   ],
   "source": [
    "# numbers = (input('Enter 10 comma seperated numbers: ')).split(',', 9)\n",
    "numbers = ('1, 2, 3, 4, 5, 6, 7, 8, 9, 10').split(',', 9)\n",
    "solution = np.array([numbers[:5], numbers[5:]], int)\n",
    "print(solution)"
   ]
  },
  {
   "cell_type": "markdown",
   "metadata": {},
   "source": [
    "Q2) WAP to create 4*5 matrix and reverse the elements of 3rd row only."
   ]
  },
  {
   "cell_type": "code",
   "execution_count": 35,
   "metadata": {},
   "outputs": [
    {
     "name": "stdout",
     "output_type": "stream",
     "text": [
      "[[ 1  2  3  4]\n",
      " [ 5  6  7  8]\n",
      " [12 11 10  9]\n",
      " [13 14 15 16]\n",
      " [17 18 19 20]]\n"
     ]
    }
   ],
   "source": [
    "matrix = np.array([[1, 2, 3, 4], [5, 6, 7, 8], [9, 10, 11, 12], [13, 14, 15, 16], [17, 18, 19, 20]])\n",
    "matrix[2] = matrix[2, ::-1]\n",
    "print(matrix)"
   ]
  },
  {
   "cell_type": "markdown",
   "metadata": {},
   "source": [
    "Q3) WAP to create 4*5 matrix and reverse the elements of 2nd column only."
   ]
  },
  {
   "cell_type": "code",
   "execution_count": 36,
   "metadata": {},
   "outputs": [
    {
     "name": "stdout",
     "output_type": "stream",
     "text": [
      "[[ 1 18  3  4]\n",
      " [ 5 14  7  8]\n",
      " [ 9 10 11 12]\n",
      " [13  6 15 16]\n",
      " [17  2 19 20]]\n"
     ]
    }
   ],
   "source": [
    "matrix = np.array([[1, 2, 3, 4], [5, 6, 7, 8], [9, 10, 11, 12], [13, 14, 15, 16], [17, 18, 19, 20]])\n",
    "matrix[::, 1] = matrix[::-1, 1]\n",
    "print(matrix)"
   ]
  },
  {
   "cell_type": "markdown",
   "metadata": {},
   "source": [
    "Q4) Write a NumPy program to test wheather each element of a 1-D array is also present in second array."
   ]
  },
  {
   "cell_type": "code",
   "execution_count": 41,
   "metadata": {},
   "outputs": [
    {
     "name": "stdout",
     "output_type": "stream",
     "text": [
      "All elements of arrayB are present in arrayA\n"
     ]
    }
   ],
   "source": [
    "arrayA = np.array([1, 2, 3, 4, 5, 6, 7, 8, 9, 10])\n",
    "arrayB = np.array([2, 4, 6, 8, 10])\n",
    "\n",
    "if(np.all(np.isin(arrayB, arrayA))):\n",
    "    print('All elements of arrayB are present in arrayA')"
   ]
  },
  {
   "cell_type": "markdown",
   "metadata": {},
   "source": [
    "Q5) Write a NumPy program to find common values between two arrays."
   ]
  },
  {
   "cell_type": "code",
   "execution_count": 43,
   "metadata": {},
   "outputs": [
    {
     "name": "stdout",
     "output_type": "stream",
     "text": [
      "[1 3 5]\n"
     ]
    }
   ],
   "source": [
    "arrayA = np.array([1, 2, 3, 4, 5, 6, 7, 8, 9, 10])\n",
    "arrayB = np.array([1, 12, 3, 14, 5, 16])\n",
    "print(np.intersect1d(arrayA, arrayB))"
   ]
  },
  {
   "cell_type": "markdown",
   "metadata": {},
   "source": [
    "Q6) Take two 1-D array and make a new 1D array where all elements are greater than 5."
   ]
  },
  {
   "cell_type": "code",
   "execution_count": 61,
   "metadata": {},
   "outputs": [
    {
     "name": "stdout",
     "output_type": "stream",
     "text": [
      "[ 6  7  8  9 10 12 14 16]\n"
     ]
    }
   ],
   "source": [
    "arrayA = np.array([2, 4, 6, 7, 5, 8, 3, 9, 1, 10])\n",
    "arrayB = np.array([1, 12, 3, 14, 5, 16])\n",
    "solution = np.array([x for x in arrayA if x > 5] + [x for x in arrayB if x > 5])\n",
    "print(solution)"
   ]
  },
  {
   "cell_type": "markdown",
   "metadata": {},
   "source": [
    "Q7) Task"
   ]
  },
  {
   "cell_type": "code",
   "execution_count": 63,
   "metadata": {},
   "outputs": [
    {
     "name": "stdout",
     "output_type": "stream",
     "text": [
      "[-10.  -8.   4.   3.   2.   1.]\n"
     ]
    }
   ],
   "source": [
    "numbers = '1 2 3 4 -8 -10'\n",
    "values = np.array(numbers.split(), float)\n",
    "print(values[::-1])"
   ]
  },
  {
   "cell_type": "markdown",
   "metadata": {},
   "source": [
    "Q8) Task"
   ]
  },
  {
   "cell_type": "code",
   "execution_count": 3,
   "metadata": {},
   "outputs": [
    {
     "name": "stdout",
     "output_type": "stream",
     "text": [
      "[[1 2]\n",
      " [1 2]\n",
      " [1 2]\n",
      " [1 2]\n",
      " [3 4]\n",
      " [3 4]\n",
      " [3 4]]\n"
     ]
    }
   ],
   "source": [
    "sampleInput = '''4 3 2\n",
    "1 2\n",
    "1 2\n",
    "1 2\n",
    "1 2\n",
    "3 4\n",
    "3 4\n",
    "3 4'''\n",
    "\n",
    "sampleInput = sampleInput.splitlines()\n",
    "n,m,p=map(int, sampleInput[0].split())\n",
    "\n",
    "sampleInput = sampleInput[1:]\n",
    "\n",
    "arrayA=np.array([sampleInput[i].split() for i in range(n)], int)\n",
    "arrayB=np.array([sampleInput[i].split() for i in range(n, n + m)], int)\n",
    "\n",
    "print(np.concatenate((arrayA, arrayB), axis=0))"
   ]
  }
 ],
 "metadata": {
  "kernelspec": {
   "display_name": "Python 3 (ipykernel)",
   "language": "python",
   "name": "python3"
  },
  "language_info": {
   "codemirror_mode": {
    "name": "ipython",
    "version": 3
   },
   "file_extension": ".py",
   "mimetype": "text/x-python",
   "name": "python",
   "nbconvert_exporter": "python",
   "pygments_lexer": "ipython3",
   "version": "3.9.12"
  },
  "vscode": {
   "interpreter": {
    "hash": "a5e2940609b4beeecea3a57c36702139d4feb5f2786223d248b35e487576e04a"
   }
  }
 },
 "nbformat": 4,
 "nbformat_minor": 2
}
