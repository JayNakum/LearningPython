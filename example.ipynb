{
 "cells": [
  {
   "cell_type": "markdown",
   "metadata": {},
   "source": [
    "# Learning [NumPy](https://numpy.org/)"
   ]
  },
  {
   "cell_type": "code",
   "execution_count": 50,
   "metadata": {},
   "outputs": [
    {
     "name": "stdout",
     "output_type": "stream",
     "text": [
      "Hello, idiots!\n"
     ]
    }
   ],
   "source": [
    "print(\"Hello, idiots!\")"
   ]
  },
  {
   "cell_type": "markdown",
   "metadata": {},
   "source": [
    "### Import package\n",
    "import numpy with alias np"
   ]
  },
  {
   "cell_type": "code",
   "execution_count": 51,
   "metadata": {},
   "outputs": [],
   "source": [
    "import numpy as np"
   ]
  },
  {
   "cell_type": "markdown",
   "metadata": {},
   "source": [
    "## Arrays in NumPy"
   ]
  },
  {
   "cell_type": "markdown",
   "metadata": {},
   "source": [
    "### Basic function\n",
    "array([my array]): used to create an array"
   ]
  },
  {
   "cell_type": "code",
   "execution_count": 52,
   "metadata": {},
   "outputs": [
    {
     "data": {
      "text/plain": [
       "3"
      ]
     },
     "execution_count": 52,
     "metadata": {},
     "output_type": "execute_result"
    }
   ],
   "source": [
    "arr = np.array([[1, 2, 3], [1, 2, 3], [1, 2, 3]])\n",
    "arr[1, 2]"
   ]
  },
  {
   "cell_type": "markdown",
   "metadata": {},
   "source": [
    "### zeros()\n",
    "zeros(size) creates a function with all 0\n",
    "\n",
    "ones(size, dtype) #datatype"
   ]
  },
  {
   "cell_type": "code",
   "execution_count": 53,
   "metadata": {},
   "outputs": [
    {
     "name": "stdout",
     "output_type": "stream",
     "text": [
      "[0. 0. 0. 0. 0.]\n",
      "[0 0 0 0 0]\n"
     ]
    }
   ],
   "source": [
    "arr = np.zeros(5)\n",
    "print(arr)\n",
    "\n",
    "arr = np.zeros(5, dtype = np.int64)\n",
    "print(arr)"
   ]
  },
  {
   "cell_type": "markdown",
   "metadata": {},
   "source": [
    "### ones()\n",
    "ones(size) creates an array with all 1\n",
    "\n",
    "ones(size, dtype) #datatype"
   ]
  },
  {
   "cell_type": "code",
   "execution_count": 54,
   "metadata": {},
   "outputs": [
    {
     "name": "stdout",
     "output_type": "stream",
     "text": [
      "[1. 1. 1. 1. 1.]\n",
      "[1 1 1 1 1]\n"
     ]
    }
   ],
   "source": [
    "arr = np.ones(5)\n",
    "print(arr)\n",
    "\n",
    "arr = np.ones(5, dtype = np.int64)\n",
    "print(arr)"
   ]
  },
  {
   "cell_type": "markdown",
   "metadata": {},
   "source": [
    "### empty()\n",
    "empty() creates a function with garbage values"
   ]
  },
  {
   "cell_type": "code",
   "execution_count": 55,
   "metadata": {},
   "outputs": [
    {
     "data": {
      "text/plain": [
       "array([2.00000000e+000, 6.92489598e-310])"
      ]
     },
     "execution_count": 55,
     "metadata": {},
     "output_type": "execute_result"
    }
   ],
   "source": [
    "arr = np.empty(2)\n",
    "arr"
   ]
  },
  {
   "cell_type": "markdown",
   "metadata": {},
   "source": [
    "### arange()\n",
    "arange() creates an array with a range of elements.\n",
    "\n",
    "arange(startNumber, lastNumber, stepSize)"
   ]
  },
  {
   "cell_type": "code",
   "execution_count": 56,
   "metadata": {},
   "outputs": [
    {
     "name": "stdout",
     "output_type": "stream",
     "text": [
      "[0 1 2 3 4 5 6 7 8]\n",
      "[ 1  4  7 10 13]\n"
     ]
    }
   ],
   "source": [
    "arr = np.arange(9)\n",
    "print(arr)\n",
    "arr = np.arange(1, 15, 3)\n",
    "print(arr)"
   ]
  },
  {
   "cell_type": "markdown",
   "metadata": {},
   "source": [
    "### linespace()\n",
    "linspace(start, stop, num = 50 #katka, endpoint = True, retstep = False, dtype = None)\n",
    "               \n",
    "creates an array with values spaced linearly in a specified interval"
   ]
  },
  {
   "cell_type": "code",
   "execution_count": 57,
   "metadata": {},
   "outputs": [
    {
     "data": {
      "text/plain": [
       "array([0.        , 0.09090909, 0.18181818, 0.27272727, 0.36363636,\n",
       "       0.45454545, 0.54545455, 0.63636364, 0.72727273, 0.81818182,\n",
       "       0.90909091, 1.        , 1.09090909, 1.18181818, 1.27272727,\n",
       "       1.36363636, 1.45454545, 1.54545455, 1.63636364, 1.72727273,\n",
       "       1.81818182, 1.90909091, 2.        , 2.09090909, 2.18181818,\n",
       "       2.27272727, 2.36363636, 2.45454545, 2.54545455, 2.63636364,\n",
       "       2.72727273, 2.81818182, 2.90909091, 3.        , 3.09090909,\n",
       "       3.18181818, 3.27272727, 3.36363636, 3.45454545, 3.54545455,\n",
       "       3.63636364, 3.72727273, 3.81818182, 3.90909091, 4.        ,\n",
       "       4.09090909, 4.18181818, 4.27272727, 4.36363636, 4.45454545,\n",
       "       4.54545455, 4.63636364, 4.72727273, 4.81818182, 4.90909091,\n",
       "       5.        , 5.09090909, 5.18181818, 5.27272727, 5.36363636,\n",
       "       5.45454545, 5.54545455, 5.63636364, 5.72727273, 5.81818182,\n",
       "       5.90909091, 6.        , 6.09090909, 6.18181818, 6.27272727,\n",
       "       6.36363636, 6.45454545, 6.54545455, 6.63636364, 6.72727273,\n",
       "       6.81818182, 6.90909091, 7.        , 7.09090909, 7.18181818,\n",
       "       7.27272727, 7.36363636, 7.45454545, 7.54545455, 7.63636364,\n",
       "       7.72727273, 7.81818182, 7.90909091, 8.        , 8.09090909,\n",
       "       8.18181818, 8.27272727, 8.36363636, 8.45454545, 8.54545455,\n",
       "       8.63636364, 8.72727273, 8.81818182, 8.90909091, 9.        ])"
      ]
     },
     "execution_count": 57,
     "metadata": {},
     "output_type": "execute_result"
    }
   ],
   "source": [
    "arr = np.linspace(0, 9, 100)\n",
    "arr"
   ]
  },
  {
   "cell_type": "markdown",
   "metadata": {},
   "source": [
    "## Adding, removing, and sorting elements"
   ]
  },
  {
   "cell_type": "markdown",
   "metadata": {},
   "source": [
    "### sort()\n",
    "you need a description!?!?!?"
   ]
  },
  {
   "cell_type": "code",
   "execution_count": 59,
   "metadata": {},
   "outputs": [
    {
     "data": {
      "text/plain": [
       "array([0, 1, 2, 3, 3, 4, 5, 6, 6, 7])"
      ]
     },
     "execution_count": 59,
     "metadata": {},
     "output_type": "execute_result"
    }
   ],
   "source": [
    "arr = np.array([6, 7, 4, 3, 5, 3, 6, 1, 2, 0])\n",
    "np.sort(arr)"
   ]
  }
 ],
 "metadata": {
  "interpreter": {
   "hash": "e7370f93d1d0cde622a1f8e1c04877d8463912d04d973331ad4851f04de6915a"
  },
  "kernelspec": {
   "display_name": "Python 3.10.1 64-bit",
   "language": "python",
   "name": "python3"
  },
  "language_info": {
   "codemirror_mode": {
    "name": "ipython",
    "version": 3
   },
   "file_extension": ".py",
   "mimetype": "text/x-python",
   "name": "python",
   "nbconvert_exporter": "python",
   "pygments_lexer": "ipython3",
   "version": "3.10.2"
  },
  "orig_nbformat": 4
 },
 "nbformat": 4,
 "nbformat_minor": 2
}
